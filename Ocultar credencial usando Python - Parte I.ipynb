{
 "cells": [
  {
   "cell_type": "markdown",
   "id": "cf09f332",
   "metadata": {},
   "source": [
    "## Uso de arquivo externo como credencial, com extensão .py\n",
    "\n",
    "Essa credencial pode ser utilizada para evitar, acidentalmente, de expor suas chaves privadas, senhas ou outros detalhes sensíveis ao GitHub, conexão de banco de dados, etc.\n",
    "\n",
    "Então, cria-se um arquivo externo .py e esse arquivo deve estar na mesma pasta do arquivo pasta do script.\n",
    "\n",
    "Exemplo:\n",
    "\n",
    "Nome do arquivo: creds.py\n",
    "\n",
    "HOST = 'testhost'\n",
    "\n",
    "DATABASE = 'tb_sold'\n",
    "\n",
    "PORT = 4537\n",
    "\n",
    "USER ='mycredential'\n",
    "\n",
    "PASSWORD = 'pass123456'"
   ]
  },
  {
   "cell_type": "code",
   "execution_count": null,
   "id": "eca46085",
   "metadata": {},
   "outputs": [],
   "source": [
    "import creds\n",
    "import os"
   ]
  },
  {
   "cell_type": "code",
   "execution_count": null,
   "id": "55a29659",
   "metadata": {},
   "outputs": [],
   "source": [
    "HOST = {creds.HOST}\n",
    "DATABASE = {creds.DATABASE}\n",
    "PORT = {creds.PORT}\n",
    "USER = {creds.USER}\n",
    "PASSWORD = {creds.PASSWORD}"
   ]
  },
  {
   "cell_type": "code",
   "execution_count": null,
   "id": "1b13ec97",
   "metadata": {},
   "outputs": [],
   "source": [
    "print(HOST)\n",
    "print(DATABASE)\n",
    "print(PORT)\n",
    "print(USER)\n",
    "print(PASSWORD)"
   ]
  }
 ],
 "metadata": {
  "kernelspec": {
   "display_name": "Python 3 (ipykernel)",
   "language": "python",
   "name": "python3"
  },
  "language_info": {
   "codemirror_mode": {
    "name": "ipython",
    "version": 3
   },
   "file_extension": ".py",
   "mimetype": "text/x-python",
   "name": "python",
   "nbconvert_exporter": "python",
   "pygments_lexer": "ipython3",
   "version": "3.9.13"
  }
 },
 "nbformat": 4,
 "nbformat_minor": 5
}
