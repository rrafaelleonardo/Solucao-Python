{
 "cells": [
  {
   "cell_type": "code",
   "execution_count": null,
   "id": "3f90f2ae",
   "metadata": {},
   "outputs": [],
   "source": [
    "#Importar as bibliotecas\n",
    "import pandas as pd\n",
    "import numpy as np\n",
    "import seaborn as sns"
   ]
  },
  {
   "cell_type": "code",
   "execution_count": null,
   "id": "3bdd871f",
   "metadata": {},
   "outputs": [],
   "source": [
    "#Carregar os dados\n",
    "df = pd.read_csv(\"Street_Tree_Census.csv\", sep= \",\")"
   ]
  },
  {
   "cell_type": "code",
   "execution_count": null,
   "id": "3042959c",
   "metadata": {},
   "outputs": [],
   "source": [
    "#Informações Estatístico do dataframe\n",
    "df.describe()"
   ]
  },
  {
   "cell_type": "code",
   "execution_count": null,
   "id": "29fe13e5",
   "metadata": {},
   "outputs": [],
   "source": [
    "#Exibir gráfico de distribuição\n",
    "sns.distplot(df['census tract'])"
   ]
  },
  {
   "cell_type": "code",
   "execution_count": null,
   "id": "2434edc5",
   "metadata": {},
   "outputs": [],
   "source": [
    "#Ver outliers claramente\n",
    "sns.boxplot(df['census tract'])"
   ]
  },
  {
   "cell_type": "markdown",
   "id": "10a3e8d2",
   "metadata": {},
   "source": [
    "## Método Z-core"
   ]
  },
  {
   "cell_type": "code",
   "execution_count": null,
   "id": "c03eb1ba",
   "metadata": {},
   "outputs": [],
   "source": [
    "#Limites inferior e supreior do método Z-core\n",
    "ls = df['census tract'].mean() + 3*df['census tract'].std()\n",
    "li = df['census tract'].mean() - 3*df['census tract'].std()\n",
    "print('limite superior:', ls)\n",
    "print('limite inferior:', li)"
   ]
  },
  {
   "cell_type": "code",
   "execution_count": null,
   "id": "2aba07a5",
   "metadata": {},
   "outputs": [],
   "source": [
    "#Encontrar os Outliers\n",
    "df.loc[(df['census tract'] > upper_limit) | (df['census tract'] < lower_limit)]"
   ]
  },
  {
   "cell_type": "code",
   "execution_count": null,
   "id": "0f9a9cd3",
   "metadata": {},
   "outputs": [],
   "source": [
    "#Deletar os outliers da base de dados\n",
    "new_df = df.loc[(df['census tract'] <= upper_limit) & (df['census tract'] >= lower_limit)]\n",
    "print('before removing outliers:', len(df))\n",
    "print('after removing outliers:', len(new_df))\n",
    "print('outliers:', len(df) - len(new_df))"
   ]
  },
  {
   "cell_type": "code",
   "execution_count": null,
   "id": "42e97d60",
   "metadata": {},
   "outputs": [],
   "source": [
    "#Exibir gráfico boxplot\n",
    "sns.boxplot(new_df['census tract'])"
   ]
  },
  {
   "cell_type": "code",
   "execution_count": null,
   "id": "b99c7e5c",
   "metadata": {},
   "outputs": [],
   "source": [
    "#Alterar  valores limite superior (ls) e inferior (li)\n",
    "new_df = df.copy()\n",
    "new_df.loc[new_df['census tract'] >= upper_limit, 'census tract'] = upper_limit\n",
    "new_df.loc[new_df['census tract'] <= lower_limit, 'census tract'] = lower_limit"
   ]
  },
  {
   "cell_type": "code",
   "execution_count": null,
   "id": "93778321",
   "metadata": {},
   "outputs": [],
   "source": [
    "#Exibir gráfico boxplot, após a remoção de Outliers e Mudanças de ls e li\n",
    "sns.boxplot(new_df['census tract'])"
   ]
  },
  {
   "cell_type": "code",
   "execution_count": null,
   "id": "5bf79a45",
   "metadata": {},
   "outputs": [],
   "source": [
    "#Tamanho dataset, após a remoção de Outliers\n",
    "len(new_df)"
   ]
  }
 ],
 "metadata": {
  "kernelspec": {
   "display_name": "Python 3 (ipykernel)",
   "language": "python",
   "name": "python3"
  },
  "language_info": {
   "codemirror_mode": {
    "name": "ipython",
    "version": 3
   },
   "file_extension": ".py",
   "mimetype": "text/x-python",
   "name": "python",
   "nbconvert_exporter": "python",
   "pygments_lexer": "ipython3",
   "version": "3.9.13"
  }
 },
 "nbformat": 4,
 "nbformat_minor": 5
}
