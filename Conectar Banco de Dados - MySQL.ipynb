{
 "cells": [
  {
   "cell_type": "markdown",
   "id": "216227cc",
   "metadata": {},
   "source": [
    "## Instalar pacotes:\n",
    "mysql-connector\n",
    "\n",
    "SQLAlchemy\n",
    "\n",
    "Pandas"
   ]
  },
  {
   "cell_type": "code",
   "execution_count": 3,
   "id": "f17a71f0",
   "metadata": {},
   "outputs": [],
   "source": [
    "#Importar a biblioteca\n",
    "import mysql.connector"
   ]
  },
  {
   "cell_type": "code",
   "execution_count": 11,
   "id": "31f9f94c",
   "metadata": {},
   "outputs": [],
   "source": [
    "con = mysql.connector.connect(host='localhost', database= 'db_chemical', user='root', password='')"
   ]
  },
  {
   "cell_type": "code",
   "execution_count": 12,
   "id": "3f803eeb",
   "metadata": {},
   "outputs": [
    {
     "name": "stdout",
     "output_type": "stream",
     "text": [
      "Conectado ao servidor MySQL versão  5.7.36\n"
     ]
    }
   ],
   "source": [
    "#Verificar a versão do servidor\n",
    "if con.is_connected():\n",
    "    db_info = con.get_server_info()\n",
    "    print(\"Conectado ao servidor MySQL versão \", db_info)"
   ]
  },
  {
   "cell_type": "code",
   "execution_count": 17,
   "id": "9300df47",
   "metadata": {},
   "outputs": [
    {
     "name": "stdout",
     "output_type": "stream",
     "text": [
      "Conectado ao banco de dados ('db_chemical',)\n"
     ]
    }
   ],
   "source": [
    "#Verificar o banco de dados selecionado  \n",
    "    cursor = con.cursor()\n",
    "    cursor.execute(\"select database();\")\n",
    "    linha = cursor.fetchone()\n",
    "    print(\"Conectado ao banco de dados\", linha)"
   ]
  },
  {
   "cell_type": "code",
   "execution_count": 21,
   "id": "db3352c3",
   "metadata": {},
   "outputs": [],
   "source": [
    "#Importar as bibliotecas\n",
    "import pandas as pd\n",
    "import sqlalchemy"
   ]
  },
  {
   "cell_type": "code",
   "execution_count": 32,
   "id": "5e568970",
   "metadata": {},
   "outputs": [],
   "source": [
    "#Ler arquivo e armazenar em uma variávrel\n",
    "df = pd.read_sql_query('Select * FROM tb_chemical', con)"
   ]
  },
  {
   "cell_type": "code",
   "execution_count": 33,
   "id": "cf5d53f2",
   "metadata": {},
   "outputs": [
    {
     "data": {
      "text/html": [
       "<div>\n",
       "<style scoped>\n",
       "    .dataframe tbody tr th:only-of-type {\n",
       "        vertical-align: middle;\n",
       "    }\n",
       "\n",
       "    .dataframe tbody tr th {\n",
       "        vertical-align: top;\n",
       "    }\n",
       "\n",
       "    .dataframe thead th {\n",
       "        text-align: right;\n",
       "    }\n",
       "</style>\n",
       "<table border=\"1\" class=\"dataframe\">\n",
       "  <thead>\n",
       "    <tr style=\"text-align: right;\">\n",
       "      <th></th>\n",
       "      <th>ID_Cliente</th>\n",
       "      <th>Nome</th>\n",
       "      <th>Comprador</th>\n",
       "      <th>Localidade</th>\n",
       "      <th>UF</th>\n",
       "      <th>N_Pedido</th>\n",
       "      <th>Nao_Atendido</th>\n",
       "      <th>Exception_Code</th>\n",
       "      <th>Departamento</th>\n",
       "      <th>Descrição</th>\n",
       "    </tr>\n",
       "  </thead>\n",
       "  <tbody>\n",
       "    <tr>\n",
       "      <th>0</th>\n",
       "      <td>289750</td>\n",
       "      <td>Rhadia Ltda</td>\n",
       "      <td>Distribuidor</td>\n",
       "      <td>Campinas</td>\n",
       "      <td>SP</td>\n",
       "      <td>10000225</td>\n",
       "      <td>1</td>\n",
       "      <td>QUAL001</td>\n",
       "      <td>Qualidade</td>\n",
       "      <td>Retenção de matéria-prima</td>\n",
       "    </tr>\n",
       "    <tr>\n",
       "      <th>1</th>\n",
       "      <td>289750</td>\n",
       "      <td>Rhadia Ltda</td>\n",
       "      <td>Distribuidor</td>\n",
       "      <td>Campinas</td>\n",
       "      <td>SP</td>\n",
       "      <td>10000231</td>\n",
       "      <td>1</td>\n",
       "      <td>QUAL001</td>\n",
       "      <td>Qualidade</td>\n",
       "      <td>Retenção de matéria-prima</td>\n",
       "    </tr>\n",
       "    <tr>\n",
       "      <th>2</th>\n",
       "      <td>988462</td>\n",
       "      <td>Lechess Quimica</td>\n",
       "      <td>Indústria</td>\n",
       "      <td>Brasília</td>\n",
       "      <td>DF</td>\n",
       "      <td>10000230</td>\n",
       "      <td>1</td>\n",
       "      <td>QUAL001</td>\n",
       "      <td>Qualidade</td>\n",
       "      <td>Retenção de matéria-prima</td>\n",
       "    </tr>\n",
       "    <tr>\n",
       "      <th>3</th>\n",
       "      <td>871108</td>\n",
       "      <td>Ivonaky Industries</td>\n",
       "      <td>Indústria</td>\n",
       "      <td>São Paulo</td>\n",
       "      <td>SP</td>\n",
       "      <td>10000228</td>\n",
       "      <td>1</td>\n",
       "      <td>QUAL001</td>\n",
       "      <td>Qualidade</td>\n",
       "      <td>Retenção de matéria-prima</td>\n",
       "    </tr>\n",
       "    <tr>\n",
       "      <th>4</th>\n",
       "      <td>724044</td>\n",
       "      <td>DaLont</td>\n",
       "      <td>Distribuidor</td>\n",
       "      <td>Rio de Janeiro</td>\n",
       "      <td>RJ</td>\n",
       "      <td>10000229</td>\n",
       "      <td>1</td>\n",
       "      <td>QUAL001</td>\n",
       "      <td>Qualidade</td>\n",
       "      <td>Retenção de matéria-prima</td>\n",
       "    </tr>\n",
       "  </tbody>\n",
       "</table>\n",
       "</div>"
      ],
      "text/plain": [
       "   ID_Cliente                Nome     Comprador      Localidade  UF  N_Pedido  \\\n",
       "0      289750         Rhadia Ltda  Distribuidor        Campinas  SP  10000225   \n",
       "1      289750         Rhadia Ltda  Distribuidor        Campinas  SP  10000231   \n",
       "2      988462     Lechess Quimica     Indústria        Brasília  DF  10000230   \n",
       "3      871108  Ivonaky Industries     Indústria       São Paulo  SP  10000228   \n",
       "4      724044              DaLont  Distribuidor  Rio de Janeiro  RJ  10000229   \n",
       "\n",
       "   Nao_Atendido Exception_Code Departamento                  Descrição  \n",
       "0             1        QUAL001    Qualidade  Retenção de matéria-prima  \n",
       "1             1        QUAL001    Qualidade  Retenção de matéria-prima  \n",
       "2             1        QUAL001    Qualidade  Retenção de matéria-prima  \n",
       "3             1        QUAL001    Qualidade  Retenção de matéria-prima  \n",
       "4             1        QUAL001    Qualidade  Retenção de matéria-prima  "
      ]
     },
     "execution_count": 33,
     "metadata": {},
     "output_type": "execute_result"
    }
   ],
   "source": [
    "#Exibir as 5 primeiras linhas\n",
    "df.head()"
   ]
  },
  {
   "cell_type": "code",
   "execution_count": 34,
   "id": "63df6a11",
   "metadata": {},
   "outputs": [
    {
     "name": "stdout",
     "output_type": "stream",
     "text": [
      "Conexão ao MySQL foi encerrada\n"
     ]
    }
   ],
   "source": [
    "#Encerrar a conexão com o Banco de Dados\n",
    "if con.is_connected():\n",
    "    cursor.close()\n",
    "    con.close()\n",
    "    print(\"Conexão ao MySQL foi encerrada\")"
   ]
  }
 ],
 "metadata": {
  "kernelspec": {
   "display_name": "Python 3 (ipykernel)",
   "language": "python",
   "name": "python3"
  },
  "language_info": {
   "codemirror_mode": {
    "name": "ipython",
    "version": 3
   },
   "file_extension": ".py",
   "mimetype": "text/x-python",
   "name": "python",
   "nbconvert_exporter": "python",
   "pygments_lexer": "ipython3",
   "version": "3.9.13"
  }
 },
 "nbformat": 4,
 "nbformat_minor": 5
}
